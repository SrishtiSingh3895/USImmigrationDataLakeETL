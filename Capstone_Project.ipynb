{
 "cells": [
  {
   "cell_type": "markdown",
   "metadata": {
    "editable": true
   },
   "source": [
    "# Immigration Data Lake\n",
    "### Data Engineering Capstone Project\n",
    "\n",
    "#### Project Summary\n",
    "The project aims to create a data lake for US immigration data and developing an ETL pipeline to build this data lake using I94 immigration data, airports data, global temperature data and US cities demographics. The raw data residing in various formats is extracted, transformed into a set of facts and dimensiona tables using Spark and loaded onto a S3 bucket for further analytics. This data can be used to study patterns in US immigration, like country of origin of most immigrants, age group, visa type, etc.\n",
    "\n",
    "The project can be divided into the following steps:\n",
    "* Step 1: Scope of the project, dataset description and reading data\n",
    "* Step 2: Exploring and Assessing the Data\n",
    "* Step 3: Define the Data Model\n",
    "* Step 4: Run ETL to Model the Data\n",
    "* Step 5: Complete Project Write Up"
   ]
  },
  {
   "cell_type": "code",
   "execution_count": 1,
   "metadata": {
    "editable": true
   },
   "outputs": [],
   "source": [
    "# Importing libraries\n",
    "import configparser\n",
    "import pandas as pd\n",
    "import numpy as np\n",
    "from pyspark.sql import SparkSession\n",
    "from pyspark.sql import types as T\n",
    "from pyspark.sql.functions import countDistinct, monotonically_increasing_id, count, when, isnan, col, sum\n",
    "from pyspark.sql.functions import year, month, dayofmonth, weekofyear\n",
    "import seaborn as sns\n",
    "import matplotlib.pyplot as plt\n",
    "import datetime as dt\n",
    "import os"
   ]
  },
  {
   "cell_type": "markdown",
   "metadata": {
    "editable": true
   },
   "source": [
    "### Step 1: Scope of the Project, Data description and reading the data\n",
    "\n",
    "#### Scope\n",
    "The scope of this project can be described by the following steps:\n",
    "1. Use spark and pandas to load the data.\n",
    "2. Explore, analyze and clean all the datasets:\n",
    "    - Airports Data\n",
    "    - US cities demographics\n",
    "    - World Temperature Data\n",
    "    - I94 immigration Data\n",
    "3. Evaluate the data requirements for analysis and design data model.\n",
    "4. Design and develop the data model as a set of fact and dimensions tables.\n",
    "5. Develop an ETL pipeline to build the data model on a S3 bucket.\n",
    "6. Perform tests on data to ensure Data Quality.\n",
    "\n",
    "Amazon S3 and Apache Spark are utilized to build the project.\n",
    "\n",
    "#### Describe and Gather Data \n",
    "The data used in this project are:\n",
    "1. I94 Immigration Data: This data comes from the US National Tourism and Trade Office. SAS file. \n",
    "    Source: https://travel.trade.gov/research/reports/i94/historical/2016.html\n",
    "2. World Temperature Data: This dataset came from Kaggle. CSV file. \n",
    "    Source: https://www.kaggle.com/berkeleyearth/climate-change-earth-surface-temperature-data\n",
    "3. U.S. City Demographic Data: This data comes from OpenSoft. CSV file. \n",
    "    Source: https://public.opendatasoft.com/explore/dataset/us-cities-demographics/export/\n",
    "4. Airport Table: This is a simple table of airport codes and their details. CSV file. \n",
    "    Source: https://datahub.io/core/airport-codes#data"
   ]
  },
  {
   "cell_type": "markdown",
   "metadata": {
    "editable": true
   },
   "source": [
    "#### Configuring AWS"
   ]
  },
  {
   "cell_type": "code",
   "execution_count": 2,
   "metadata": {
    "editable": true
   },
   "outputs": [],
   "source": [
    "config = configparser.ConfigParser()\n",
    "config.read('dl.cfg')\n",
    "\n",
    "os.environ['AWS_ACCESS_KEY_ID'] = config['AWS CREDS']['AWS_ACCESS_KEY_ID']\n",
    "os.environ['AWS_SECRET_ACCESS_KEY'] = config['AWS CREDS']['AWS_SECRET_ACCESS_KEY']"
   ]
  },
  {
   "cell_type": "markdown",
   "metadata": {
    "editable": true
   },
   "source": [
    "#### Reading Data"
   ]
  },
  {
   "cell_type": "code",
   "execution_count": 3,
   "metadata": {
    "editable": true
   },
   "outputs": [
    {
     "name": "stdout",
     "output_type": "stream",
     "text": [
      "(55075, 12)\n"
     ]
    },
    {
     "data": {
      "text/html": [
       "<div>\n",
       "<style scoped>\n",
       "    .dataframe tbody tr th:only-of-type {\n",
       "        vertical-align: middle;\n",
       "    }\n",
       "\n",
       "    .dataframe tbody tr th {\n",
       "        vertical-align: top;\n",
       "    }\n",
       "\n",
       "    .dataframe thead th {\n",
       "        text-align: right;\n",
       "    }\n",
       "</style>\n",
       "<table border=\"1\" class=\"dataframe\">\n",
       "  <thead>\n",
       "    <tr style=\"text-align: right;\">\n",
       "      <th></th>\n",
       "      <th>ident</th>\n",
       "      <th>type</th>\n",
       "      <th>name</th>\n",
       "      <th>elevation_ft</th>\n",
       "      <th>continent</th>\n",
       "      <th>iso_country</th>\n",
       "      <th>iso_region</th>\n",
       "      <th>municipality</th>\n",
       "      <th>gps_code</th>\n",
       "      <th>iata_code</th>\n",
       "      <th>local_code</th>\n",
       "      <th>coordinates</th>\n",
       "    </tr>\n",
       "  </thead>\n",
       "  <tbody>\n",
       "    <tr>\n",
       "      <th>0</th>\n",
       "      <td>00A</td>\n",
       "      <td>heliport</td>\n",
       "      <td>Total Rf Heliport</td>\n",
       "      <td>11.0</td>\n",
       "      <td>NaN</td>\n",
       "      <td>US</td>\n",
       "      <td>US-PA</td>\n",
       "      <td>Bensalem</td>\n",
       "      <td>00A</td>\n",
       "      <td>NaN</td>\n",
       "      <td>00A</td>\n",
       "      <td>-74.93360137939453, 40.07080078125</td>\n",
       "    </tr>\n",
       "    <tr>\n",
       "      <th>1</th>\n",
       "      <td>00AA</td>\n",
       "      <td>small_airport</td>\n",
       "      <td>Aero B Ranch Airport</td>\n",
       "      <td>3435.0</td>\n",
       "      <td>NaN</td>\n",
       "      <td>US</td>\n",
       "      <td>US-KS</td>\n",
       "      <td>Leoti</td>\n",
       "      <td>00AA</td>\n",
       "      <td>NaN</td>\n",
       "      <td>00AA</td>\n",
       "      <td>-101.473911, 38.704022</td>\n",
       "    </tr>\n",
       "    <tr>\n",
       "      <th>2</th>\n",
       "      <td>00AK</td>\n",
       "      <td>small_airport</td>\n",
       "      <td>Lowell Field</td>\n",
       "      <td>450.0</td>\n",
       "      <td>NaN</td>\n",
       "      <td>US</td>\n",
       "      <td>US-AK</td>\n",
       "      <td>Anchor Point</td>\n",
       "      <td>00AK</td>\n",
       "      <td>NaN</td>\n",
       "      <td>00AK</td>\n",
       "      <td>-151.695999146, 59.94919968</td>\n",
       "    </tr>\n",
       "    <tr>\n",
       "      <th>3</th>\n",
       "      <td>00AL</td>\n",
       "      <td>small_airport</td>\n",
       "      <td>Epps Airpark</td>\n",
       "      <td>820.0</td>\n",
       "      <td>NaN</td>\n",
       "      <td>US</td>\n",
       "      <td>US-AL</td>\n",
       "      <td>Harvest</td>\n",
       "      <td>00AL</td>\n",
       "      <td>NaN</td>\n",
       "      <td>00AL</td>\n",
       "      <td>-86.77030181884766, 34.86479949951172</td>\n",
       "    </tr>\n",
       "    <tr>\n",
       "      <th>4</th>\n",
       "      <td>00AR</td>\n",
       "      <td>closed</td>\n",
       "      <td>Newport Hospital &amp; Clinic Heliport</td>\n",
       "      <td>237.0</td>\n",
       "      <td>NaN</td>\n",
       "      <td>US</td>\n",
       "      <td>US-AR</td>\n",
       "      <td>Newport</td>\n",
       "      <td>NaN</td>\n",
       "      <td>NaN</td>\n",
       "      <td>NaN</td>\n",
       "      <td>-91.254898, 35.6087</td>\n",
       "    </tr>\n",
       "  </tbody>\n",
       "</table>\n",
       "</div>"
      ],
      "text/plain": [
       "  ident           type                                name  elevation_ft  \\\n",
       "0   00A       heliport                   Total Rf Heliport          11.0   \n",
       "1  00AA  small_airport                Aero B Ranch Airport        3435.0   \n",
       "2  00AK  small_airport                        Lowell Field         450.0   \n",
       "3  00AL  small_airport                        Epps Airpark         820.0   \n",
       "4  00AR         closed  Newport Hospital & Clinic Heliport         237.0   \n",
       "\n",
       "  continent iso_country iso_region  municipality gps_code iata_code  \\\n",
       "0       NaN          US      US-PA      Bensalem      00A       NaN   \n",
       "1       NaN          US      US-KS         Leoti     00AA       NaN   \n",
       "2       NaN          US      US-AK  Anchor Point     00AK       NaN   \n",
       "3       NaN          US      US-AL       Harvest     00AL       NaN   \n",
       "4       NaN          US      US-AR       Newport      NaN       NaN   \n",
       "\n",
       "  local_code                            coordinates  \n",
       "0        00A     -74.93360137939453, 40.07080078125  \n",
       "1       00AA                 -101.473911, 38.704022  \n",
       "2       00AK            -151.695999146, 59.94919968  \n",
       "3       00AL  -86.77030181884766, 34.86479949951172  \n",
       "4        NaN                    -91.254898, 35.6087  "
      ]
     },
     "execution_count": 3,
     "metadata": {},
     "output_type": "execute_result"
    }
   ],
   "source": [
    "# Reading airport data\n",
    "airport = pd.read_csv(\"airport-codes_csv.csv\")\n",
    "print(airport.shape)\n",
    "airport.head()"
   ]
  },
  {
   "cell_type": "code",
   "execution_count": 4,
   "metadata": {
    "editable": true
   },
   "outputs": [
    {
     "name": "stdout",
     "output_type": "stream",
     "text": [
      "(2891, 12)\n"
     ]
    },
    {
     "data": {
      "text/html": [
       "<div>\n",
       "<style scoped>\n",
       "    .dataframe tbody tr th:only-of-type {\n",
       "        vertical-align: middle;\n",
       "    }\n",
       "\n",
       "    .dataframe tbody tr th {\n",
       "        vertical-align: top;\n",
       "    }\n",
       "\n",
       "    .dataframe thead th {\n",
       "        text-align: right;\n",
       "    }\n",
       "</style>\n",
       "<table border=\"1\" class=\"dataframe\">\n",
       "  <thead>\n",
       "    <tr style=\"text-align: right;\">\n",
       "      <th></th>\n",
       "      <th>City</th>\n",
       "      <th>State</th>\n",
       "      <th>Median Age</th>\n",
       "      <th>Male Population</th>\n",
       "      <th>Female Population</th>\n",
       "      <th>Total Population</th>\n",
       "      <th>Number of Veterans</th>\n",
       "      <th>Foreign-born</th>\n",
       "      <th>Average Household Size</th>\n",
       "      <th>State Code</th>\n",
       "      <th>Race</th>\n",
       "      <th>Count</th>\n",
       "    </tr>\n",
       "  </thead>\n",
       "  <tbody>\n",
       "    <tr>\n",
       "      <th>0</th>\n",
       "      <td>Silver Spring</td>\n",
       "      <td>Maryland</td>\n",
       "      <td>33.8</td>\n",
       "      <td>40601.0</td>\n",
       "      <td>41862.0</td>\n",
       "      <td>82463</td>\n",
       "      <td>1562.0</td>\n",
       "      <td>30908.0</td>\n",
       "      <td>2.60</td>\n",
       "      <td>MD</td>\n",
       "      <td>Hispanic or Latino</td>\n",
       "      <td>25924</td>\n",
       "    </tr>\n",
       "    <tr>\n",
       "      <th>1</th>\n",
       "      <td>Quincy</td>\n",
       "      <td>Massachusetts</td>\n",
       "      <td>41.0</td>\n",
       "      <td>44129.0</td>\n",
       "      <td>49500.0</td>\n",
       "      <td>93629</td>\n",
       "      <td>4147.0</td>\n",
       "      <td>32935.0</td>\n",
       "      <td>2.39</td>\n",
       "      <td>MA</td>\n",
       "      <td>White</td>\n",
       "      <td>58723</td>\n",
       "    </tr>\n",
       "    <tr>\n",
       "      <th>2</th>\n",
       "      <td>Hoover</td>\n",
       "      <td>Alabama</td>\n",
       "      <td>38.5</td>\n",
       "      <td>38040.0</td>\n",
       "      <td>46799.0</td>\n",
       "      <td>84839</td>\n",
       "      <td>4819.0</td>\n",
       "      <td>8229.0</td>\n",
       "      <td>2.58</td>\n",
       "      <td>AL</td>\n",
       "      <td>Asian</td>\n",
       "      <td>4759</td>\n",
       "    </tr>\n",
       "    <tr>\n",
       "      <th>3</th>\n",
       "      <td>Rancho Cucamonga</td>\n",
       "      <td>California</td>\n",
       "      <td>34.5</td>\n",
       "      <td>88127.0</td>\n",
       "      <td>87105.0</td>\n",
       "      <td>175232</td>\n",
       "      <td>5821.0</td>\n",
       "      <td>33878.0</td>\n",
       "      <td>3.18</td>\n",
       "      <td>CA</td>\n",
       "      <td>Black or African-American</td>\n",
       "      <td>24437</td>\n",
       "    </tr>\n",
       "    <tr>\n",
       "      <th>4</th>\n",
       "      <td>Newark</td>\n",
       "      <td>New Jersey</td>\n",
       "      <td>34.6</td>\n",
       "      <td>138040.0</td>\n",
       "      <td>143873.0</td>\n",
       "      <td>281913</td>\n",
       "      <td>5829.0</td>\n",
       "      <td>86253.0</td>\n",
       "      <td>2.73</td>\n",
       "      <td>NJ</td>\n",
       "      <td>White</td>\n",
       "      <td>76402</td>\n",
       "    </tr>\n",
       "  </tbody>\n",
       "</table>\n",
       "</div>"
      ],
      "text/plain": [
       "               City          State  Median Age  Male Population  \\\n",
       "0     Silver Spring       Maryland        33.8          40601.0   \n",
       "1            Quincy  Massachusetts        41.0          44129.0   \n",
       "2            Hoover        Alabama        38.5          38040.0   \n",
       "3  Rancho Cucamonga     California        34.5          88127.0   \n",
       "4            Newark     New Jersey        34.6         138040.0   \n",
       "\n",
       "   Female Population  Total Population  Number of Veterans  Foreign-born  \\\n",
       "0            41862.0             82463              1562.0       30908.0   \n",
       "1            49500.0             93629              4147.0       32935.0   \n",
       "2            46799.0             84839              4819.0        8229.0   \n",
       "3            87105.0            175232              5821.0       33878.0   \n",
       "4           143873.0            281913              5829.0       86253.0   \n",
       "\n",
       "   Average Household Size State Code                       Race  Count  \n",
       "0                    2.60         MD         Hispanic or Latino  25924  \n",
       "1                    2.39         MA                      White  58723  \n",
       "2                    2.58         AL                      Asian   4759  \n",
       "3                    3.18         CA  Black or African-American  24437  \n",
       "4                    2.73         NJ                      White  76402  "
      ]
     },
     "execution_count": 4,
     "metadata": {},
     "output_type": "execute_result"
    }
   ],
   "source": [
    "# Reading US cities demographics data\n",
    "cities = pd.read_csv(\"us-cities-demographics.csv\", delimiter=\";\")\n",
    "print(cities.shape)\n",
    "cities.head()"
   ]
  },
  {
   "cell_type": "code",
   "execution_count": 89,
   "metadata": {
    "editable": true
   },
   "outputs": [
    {
     "name": "stdout",
     "output_type": "stream",
     "text": [
      "(8599212, 7)\n"
     ]
    },
    {
     "data": {
      "text/html": [
       "<div>\n",
       "<style scoped>\n",
       "    .dataframe tbody tr th:only-of-type {\n",
       "        vertical-align: middle;\n",
       "    }\n",
       "\n",
       "    .dataframe tbody tr th {\n",
       "        vertical-align: top;\n",
       "    }\n",
       "\n",
       "    .dataframe thead th {\n",
       "        text-align: right;\n",
       "    }\n",
       "</style>\n",
       "<table border=\"1\" class=\"dataframe\">\n",
       "  <thead>\n",
       "    <tr style=\"text-align: right;\">\n",
       "      <th></th>\n",
       "      <th>dt</th>\n",
       "      <th>AverageTemperature</th>\n",
       "      <th>AverageTemperatureUncertainty</th>\n",
       "      <th>City</th>\n",
       "      <th>Country</th>\n",
       "      <th>Latitude</th>\n",
       "      <th>Longitude</th>\n",
       "    </tr>\n",
       "  </thead>\n",
       "  <tbody>\n",
       "    <tr>\n",
       "      <th>0</th>\n",
       "      <td>1743-11-01</td>\n",
       "      <td>6.068</td>\n",
       "      <td>1.737</td>\n",
       "      <td>Århus</td>\n",
       "      <td>Denmark</td>\n",
       "      <td>57.05N</td>\n",
       "      <td>10.33E</td>\n",
       "    </tr>\n",
       "    <tr>\n",
       "      <th>1</th>\n",
       "      <td>1743-12-01</td>\n",
       "      <td>NaN</td>\n",
       "      <td>NaN</td>\n",
       "      <td>Århus</td>\n",
       "      <td>Denmark</td>\n",
       "      <td>57.05N</td>\n",
       "      <td>10.33E</td>\n",
       "    </tr>\n",
       "    <tr>\n",
       "      <th>2</th>\n",
       "      <td>1744-01-01</td>\n",
       "      <td>NaN</td>\n",
       "      <td>NaN</td>\n",
       "      <td>Århus</td>\n",
       "      <td>Denmark</td>\n",
       "      <td>57.05N</td>\n",
       "      <td>10.33E</td>\n",
       "    </tr>\n",
       "    <tr>\n",
       "      <th>3</th>\n",
       "      <td>1744-02-01</td>\n",
       "      <td>NaN</td>\n",
       "      <td>NaN</td>\n",
       "      <td>Århus</td>\n",
       "      <td>Denmark</td>\n",
       "      <td>57.05N</td>\n",
       "      <td>10.33E</td>\n",
       "    </tr>\n",
       "    <tr>\n",
       "      <th>4</th>\n",
       "      <td>1744-03-01</td>\n",
       "      <td>NaN</td>\n",
       "      <td>NaN</td>\n",
       "      <td>Århus</td>\n",
       "      <td>Denmark</td>\n",
       "      <td>57.05N</td>\n",
       "      <td>10.33E</td>\n",
       "    </tr>\n",
       "  </tbody>\n",
       "</table>\n",
       "</div>"
      ],
      "text/plain": [
       "           dt  AverageTemperature  AverageTemperatureUncertainty   City  \\\n",
       "0  1743-11-01               6.068                          1.737  Århus   \n",
       "1  1743-12-01                 NaN                            NaN  Århus   \n",
       "2  1744-01-01                 NaN                            NaN  Århus   \n",
       "3  1744-02-01                 NaN                            NaN  Århus   \n",
       "4  1744-03-01                 NaN                            NaN  Århus   \n",
       "\n",
       "   Country Latitude Longitude  \n",
       "0  Denmark   57.05N    10.33E  \n",
       "1  Denmark   57.05N    10.33E  \n",
       "2  Denmark   57.05N    10.33E  \n",
       "3  Denmark   57.05N    10.33E  \n",
       "4  Denmark   57.05N    10.33E  "
      ]
     },
     "execution_count": 89,
     "metadata": {},
     "output_type": "execute_result"
    }
   ],
   "source": [
    "# Reading Global Temperature Data\n",
    "temp = pd.read_csv(\"../../data2/GlobalLandTemperaturesByCity.csv\")\n",
    "print(temp.shape)\n",
    "temp.head()"
   ]
  },
  {
   "cell_type": "code",
   "execution_count": 5,
   "metadata": {
    "editable": true
   },
   "outputs": [],
   "source": [
    "# Creating spark object\n",
    "spark = SparkSession.builder\\\n",
    ".config(\"spark.jars.packages\",\"saurfang:spark-sas7bdat:2.0.0-s_2.11,org.apache.hadoop:hadoop-aws:2.7.2\")\\\n",
    ".config(\"spark.hadoop.fs.s3a.impl\",\"org.apache.hadoop.fs.s3a.S3AFileSystem\") \\\n",
    ".config(\"spark.hadoop.fs.s3a.access.key\", os.environ['AWS_ACCESS_KEY_ID']) \\\n",
    ".config(\"spark.hadoop.fs.s3a.secret.key\", os.environ['AWS_SECRET_ACCESS_KEY']) \\\n",
    ".enableHiveSupport().getOrCreate()\n",
    "\n",
    "sc = spark.sparkContext\n",
    "sc._jsc.hadoopConfiguration().set(\"fs.s3a.access.key\",os.environ['AWS_ACCESS_KEY_ID'])\n",
    "sc._jsc.hadoopConfiguration().set(\"fs.s3a.secret.key\",os.environ['AWS_SECRET_ACCESS_KEY'])"
   ]
  },
  {
   "cell_type": "code",
   "execution_count": 7,
   "metadata": {
    "editable": true
   },
   "outputs": [
    {
     "name": "stdout",
     "output_type": "stream",
     "text": [
      "Reading month  jan\n",
      "Reading month  feb\n",
      "Reading month  mar\n",
      "Reading month  apr\n",
      "Reading month  may\n",
      "Reading month  jun\n",
      "Reading month  jul\n",
      "Reading month  aug\n",
      "Reading month  sep\n",
      "Reading month  oct\n",
      "Reading month  nov\n",
      "Reading month  dec\n"
     ]
    }
   ],
   "source": [
    "# Reading I94 immigration data\n",
    "months = ['jan','feb','mar','apr','may','jun','jul','aug','sep','oct','nov','dec']\n",
    "\n",
    "for month in months:\n",
    "    print(\"Reading month \", month)\n",
    "    i94 = spark.read.format('com.github.saurfang.sas.spark').load(f\"../../data/18-83510-I94-Data-2016/i94_{month}16_sub.sas7bdat\")\n",
    "    i94.write.mode('append').partitionBy(\"i94mon\").parquet(\"s3a://udacity-srishti-capstone/input/i94.parquet\")"
   ]
  },
  {
   "cell_type": "code",
   "execution_count": 9,
   "metadata": {
    "editable": true
   },
   "outputs": [
    {
     "name": "stdout",
     "output_type": "stream",
     "text": [
      "(42099117, 28)\n",
      "+---------+------+------+------+-------+-------+-------+-------+-------+------+-------+-----+--------+--------+-----+-------+-------+-------+-------+-------+--------+------+------+-------+-------------+-----+--------+------+\n",
      "|    cicid| i94yr|i94cit|i94res|i94port|arrdate|i94mode|i94addr|depdate|i94bir|i94visa|count|dtadfile|visapost|occup|entdepa|entdepd|entdepu|matflag|biryear| dtaddto|gender|insnum|airline|       admnum|fltno|visatype|i94mon|\n",
      "+---------+------+------+------+-------+-------+-------+-------+-------+------+-------+-----+--------+--------+-----+-------+-------+-------+-------+-------+--------+------+------+-------+-------------+-----+--------+------+\n",
      "|5680949.0|2016.0| 117.0| 117.0|    NYC|20659.0|    1.0|     NY|   null|  30.0|    3.0|  1.0|20160724|     NPL| null|      G|   null|   null|   null| 1986.0|     D/S|     F|  null|     IG|2.947450085E9| 3940|      F1|   7.0|\n",
      "|5680950.0|2016.0| 245.0| 245.0|    DET|20659.0|    1.0|     IL|20679.0|  46.0|    2.0|  1.0|20160813|    null| null|      G|      O|   null|      M| 1970.0|01232017|     M| 78652|     DL|2.947451085E9|  188|      B2|   7.0|\n",
      "|5680953.0|2016.0| 245.0| 245.0|    SEA|20659.0|    1.0|     WA|20670.0|  36.0|    2.0|  1.0|20160804|    null| null|      G|      O|   null|      M| 1980.0|01232017|     F|130660|     OZ|2.947454785E9|  272|      B2|   7.0|\n",
      "|5680954.0|2016.0| 135.0| 135.0|    ORL|20659.0|    1.0|     FL|20673.0|  17.0|    2.0|  1.0|20160808|    null| null|      O|      O|   null|      M| 1999.0|10212016|     F|294090|     MT|2.947455685E9|  176|      WT|   7.0|\n",
      "|5680956.0|2016.0| 213.0| 213.0|    MIA|20659.0|    1.0|     FL|20728.0|  23.0|    2.0|  1.0|20160724|     HYD| null|      G|      O|   null|      M| 1993.0|01232017|     M| 21180|     QR|2.947457485E9|  777|      B2|   7.0|\n",
      "|5680958.0|2016.0| 689.0| 689.0|    ORL|20659.0|    1.0|     FL|20663.0|  56.0|    2.0|  1.0|20160729|    null| null|      G|      O|   null|      M| 1960.0|01232017|     F|154782|     JJ|2.947459285E9| 8086|      B2|   7.0|\n",
      "|5680959.0|2016.0| 135.0| 135.0|    SFR|20659.0|    1.0|     CA|   null|  44.0|    1.0|  1.0|20160724|     LND| null|      G|   null|   null|   null| 1972.0|07232018|     M|  null|     BA|2.947460185E9|  285|      E2|   7.0|\n",
      "|5680964.0|2016.0| 104.0| 104.0|    LVG|20659.0|    1.0|     UT|20680.0|  14.0|    2.0|  1.0|20160815|    null| null|      G|      O|   null|      M| 2002.0|10212016|     M|108275|     DE|2.947465785E9| 2062|      WT|   7.0|\n",
      "|5680966.0|2016.0| 582.0| 582.0|    YHC|20659.0|    2.0|   null|20665.0|  45.0|    2.0|  1.0|20160730|    null| null|      G|      R|   null|      M| 1971.0|01232017|     F| 25859|    VES|2.947467585E9|91894|      B2|   7.0|\n",
      "|5680967.0|2016.0| 254.0| 276.0|    HHW|20659.0|    1.0|     HI|20664.0|  31.0|    2.0|  1.0|20160730|    null| null|      G|      O|   null|      M| 1985.0|10212016|     M|152070|     KE|2.947468485E9|   53|      WT|   7.0|\n",
      "|5680968.0|2016.0| 245.0| 245.0|    SEA|20659.0|    1.0|     WA|20666.0|  53.0|    2.0|  1.0|20160801|    null| null|      G|      O|   null|      M| 1963.0|01232017|     F|147888|     OZ|2.947469385E9|  272|      B2|   7.0|\n",
      "|5680971.0|2016.0| 108.0| 108.0|    DEN|20659.0|    1.0|     CO|20685.0|  30.0|    2.0|  1.0|20160820|    null| null|      G|      O|   null|      M| 1986.0|10212016|     F|155629|     LH|2.947472085E9|  446|      WT|   7.0|\n",
      "|5680972.0|2016.0| 148.0| 112.0|    LVG|20659.0|    1.0|     NV|20679.0|  54.0|    2.0|  1.0|20160814|    null| null|      G|      O|   null|      M| 1962.0|10212016|     M| 17199|     DE|2.947473085E9| 2062|      WT|   7.0|\n",
      "|5680973.0|2016.0| 582.0| 582.0|    OAK|20659.0|    1.0|     CA|20673.0|  42.0|    2.0|  1.0|20160807|    null| null|      G|      O|   null|      M| 1974.0|01232017|     F|134547|     Y4|2.947474985E9|  988|      B2|   7.0|\n",
      "|5680974.0|2016.0| 696.0| 696.0|    MIA|20659.0|    1.0|     FL|20697.0|  41.0|    2.0|  1.0|20160831|    null| null|      G|      N|   null|      M| 1975.0|01232017|     F| 08118|     AA|2.947475885E9|  968|      B2|   7.0|\n",
      "|5680975.0|2016.0| 689.0| 689.0|    MIA|20659.0|    1.0|     FL|20678.0|  75.0|    2.0|  1.0|20160813|    null| null|      G|      O|   null|      M| 1941.0|01232017|     M|161526|     JJ|2.947476785E9| 8042|      B2|   7.0|\n",
      "|5680976.0|2016.0| 689.0| 689.0|    MIA|20659.0|    1.0|     LA|20713.0|  61.0|    2.0|  1.0|20160724|    null| null|      T|      I|   null|      M| 1955.0|01232017|     F|  null|     JJ|2.947477685E9| 8042|      B2|   7.0|\n",
      "|5680977.0|2016.0| 249.0| 249.0|    LOS|20659.0|    1.0|     CA|   null|  24.0|    3.0|  1.0|20160724|     BKU| null|      G|   null|   null|   null| 1992.0|     D/S|     M| 23829|     QR|2.947478585E9|  739|      F1|   7.0|\n",
      "|5680980.0|2016.0| 209.0| 209.0|    BOS|20659.0|    1.0|     MA|20663.0|  49.0|    1.0|  1.0|20160728|    null| null|      O|      O|   null|      M| 1967.0|10212016|     M|303194|     JL|2.947481285E9|    8|      WB|   7.0|\n",
      "|5680981.0|2016.0| 135.0| 135.0|    SFB|20659.0|    1.0|     FL|   null|  48.0|    2.0|  1.0|20160724|    null| null|      G|   null|   null|   null| 1968.0|10212016|     F|  null|    TOM|2.947482185E9|  374|      WT|   7.0|\n",
      "+---------+------+------+------+-------+-------+-------+-------+-------+------+-------+-----+--------+--------+-----+-------+-------+-------+-------+-------+--------+------+------+-------+-------------+-----+--------+------+\n",
      "only showing top 20 rows\n",
      "\n"
     ]
    }
   ],
   "source": [
    "# Reading the parquet file created\n",
    "immigration = spark.read.parquet(\"s3a://udacity-srishti-capstone/input/i94.parquet\")\n",
    "print((immigration.count(), len(immigration.columns)))\n",
    "immigration.show()"
   ]
  },
  {
   "cell_type": "markdown",
   "metadata": {
    "editable": true
   },
   "source": [
    "### Step 2: Exploring and Assessing the Data\n",
    "#### Explore the Data\n",
    "1. Visualize the data quality issues.\n",
    "2. Identify data quality issues, like missing values and duplicate data.\n",
    "\n",
    "#### Cleaning Steps\n",
    "1. Delete columns with more than 30% missing values.\n",
    "2. Delete rows having missing values where columns did not have more than 30% of the data as missing or if the column was necessary for the table.\n",
    "3. Remove rows containing duplicate data."
   ]
  },
  {
   "cell_type": "markdown",
   "metadata": {
    "editable": true
   },
   "source": [
    "#### Visualizing missing values"
   ]
  },
  {
   "cell_type": "code",
   "execution_count": 9,
   "metadata": {
    "editable": true
   },
   "outputs": [
    {
     "data": {
      "text/plain": [
       "<matplotlib.legend.Legend at 0x7fea30761ef0>"
      ]
     },
     "execution_count": 9,
     "metadata": {},
     "output_type": "execute_result"
    },
    {
     "data": {
      "image/png": "[encoded data removed]",
      "text/plain": [
       "<matplotlib.figure.Figure at 0x7fea30761f28>"
      ]
     },
     "metadata": {
      "needs_background": "light"
     },
     "output_type": "display_data"
    }
   ],
   "source": [
    "# Checking for null values in airport data\n",
    "airport.isna().sum()\n",
    "graph = sns.barplot(x = list(airport.columns.values), y = airport.isna().sum()/airport.shape[0])\n",
    "graph.axhline(0.3, label = \"30% of data\")\n",
    "graph.set_xticklabels(graph.get_xticklabels(), rotation = 90)\n",
    "plt.legend()"
   ]
  },
  {
   "cell_type": "code",
   "execution_count": 10,
   "metadata": {
    "editable": true
   },
   "outputs": [
    {
     "data": {
      "text/plain": [
       "<matplotlib.legend.Legend at 0x7fea2ea0f6d8>"
      ]
     },
     "execution_count": 10,
     "metadata": {},
     "output_type": "execute_result"
    },
    {
     "data": {
      "image/png": "[encoded data removed]",
      "text/plain": [
       "<matplotlib.figure.Figure at 0x7fea2f5c00f0>"
      ]
     },
     "metadata": {
      "needs_background": "light"
     },
     "output_type": "display_data"
    }
   ],
   "source": [
    "# Checking for null values in US cities demographics\n",
    "cities.isna().sum()\n",
    "graph = sns.barplot(x = list(cities.columns.values), y = cities.isna().sum()/cities.shape[0])\n",
    "graph.axhline(0.01, label = \"1% of data\")\n",
    "graph.set_xticklabels(graph.get_xticklabels(), rotation = 90)\n",
    "plt.legend()"
   ]
  },
  {
   "cell_type": "code",
   "execution_count": 11,
   "metadata": {
    "editable": true
   },
   "outputs": [
    {
     "data": {
      "text/plain": [
       "<matplotlib.legend.Legend at 0x7fea2ea98048>"
      ]
     },
     "execution_count": 11,
     "metadata": {},
     "output_type": "execute_result"
    },
    {
     "data": {
      "image/png": "[encoded data removed]",
      "text/plain": [
       "<matplotlib.figure.Figure at 0x7fea323c45f8>"
      ]
     },
     "metadata": {
      "needs_background": "light"
     },
     "output_type": "display_data"
    }
   ],
   "source": [
    "# Checking for null values in world temperature data\n",
    "temp.isna().sum()\n",
    "graph = sns.barplot(x = list(temp.columns.values), y = temp.isna().sum()/temp.shape[0])\n",
    "graph.axhline(0.05, label = \"5% of data\")\n",
    "graph.set_xticklabels(graph.get_xticklabels(), rotation = 90)\n",
    "plt.legend()"
   ]
  },
  {
   "cell_type": "code",
   "execution_count": 12,
   "metadata": {
    "editable": true
   },
   "outputs": [],
   "source": [
    "# Checking for null values in immigration data\n",
    "i94nulls = [immigration.filter(immigration[col].isNull()).count() for col in immigration.columns]"
   ]
  },
  {
   "cell_type": "code",
   "execution_count": 13,
   "metadata": {
    "editable": true
   },
   "outputs": [
    {
     "data": {
      "text/plain": [
       "<matplotlib.legend.Legend at 0x7fea2e8325f8>"
      ]
     },
     "execution_count": 13,
     "metadata": {},
     "output_type": "execute_result"
    },
    {
     "data": {
      "image/png": "[encoded data removed]",
      "text/plain": [
       "<matplotlib.figure.Figure at 0x7fea2e9b2b70>"
      ]
     },
     "metadata": {
      "needs_background": "light"
     },
     "output_type": "display_data"
    }
   ],
   "source": [
    "graph = sns.barplot(x = list(immigration.columns), y = np.array(i94nulls)/immigration.count())\n",
    "graph.axhline(0.3, label = \"30% of data\")\n",
    "graph.set_xticklabels(graph.get_xticklabels(), rotation = 90)\n",
    "plt.legend()"
   ]
  },
  {
   "cell_type": "markdown",
   "metadata": {
    "editable": true
   },
   "source": [
    "#### Handling missing values"
   ]
  },
  {
   "cell_type": "code",
   "execution_count": 14,
   "metadata": {
    "editable": true
   },
   "outputs": [
    {
     "name": "stdout",
     "output_type": "stream",
     "text": [
      "(7561, 10)\n"
     ]
    },
    {
     "data": {
      "text/html": [
       "<div>\n",
       "<style scoped>\n",
       "    .dataframe tbody tr th:only-of-type {\n",
       "        vertical-align: middle;\n",
       "    }\n",
       "\n",
       "    .dataframe tbody tr th {\n",
       "        vertical-align: top;\n",
       "    }\n",
       "\n",
       "    .dataframe thead th {\n",
       "        text-align: right;\n",
       "    }\n",
       "</style>\n",
       "<table border=\"1\" class=\"dataframe\">\n",
       "  <thead>\n",
       "    <tr style=\"text-align: right;\">\n",
       "      <th></th>\n",
       "      <th>ident</th>\n",
       "      <th>type</th>\n",
       "      <th>name</th>\n",
       "      <th>elevation_ft</th>\n",
       "      <th>iso_country</th>\n",
       "      <th>iso_region</th>\n",
       "      <th>municipality</th>\n",
       "      <th>gps_code</th>\n",
       "      <th>iata_code</th>\n",
       "      <th>coordinates</th>\n",
       "    </tr>\n",
       "  </thead>\n",
       "  <tbody>\n",
       "    <tr>\n",
       "      <th>223</th>\n",
       "      <td>03N</td>\n",
       "      <td>small_airport</td>\n",
       "      <td>Utirik Airport</td>\n",
       "      <td>4.0</td>\n",
       "      <td>MH</td>\n",
       "      <td>MH-UTI</td>\n",
       "      <td>Utirik Island</td>\n",
       "      <td>K03N</td>\n",
       "      <td>UTK</td>\n",
       "      <td>169.852005, 11.222</td>\n",
       "    </tr>\n",
       "    <tr>\n",
       "      <th>440</th>\n",
       "      <td>07FA</td>\n",
       "      <td>small_airport</td>\n",
       "      <td>Ocean Reef Club Airport</td>\n",
       "      <td>8.0</td>\n",
       "      <td>US</td>\n",
       "      <td>US-FL</td>\n",
       "      <td>Key Largo</td>\n",
       "      <td>07FA</td>\n",
       "      <td>OCA</td>\n",
       "      <td>-80.274803161621, 25.325399398804</td>\n",
       "    </tr>\n",
       "    <tr>\n",
       "      <th>673</th>\n",
       "      <td>0CO2</td>\n",
       "      <td>small_airport</td>\n",
       "      <td>Crested Butte Airpark</td>\n",
       "      <td>8980.0</td>\n",
       "      <td>US</td>\n",
       "      <td>US-CO</td>\n",
       "      <td>Crested Butte</td>\n",
       "      <td>0CO2</td>\n",
       "      <td>CSE</td>\n",
       "      <td>-106.928341, 38.851918</td>\n",
       "    </tr>\n",
       "    <tr>\n",
       "      <th>1088</th>\n",
       "      <td>0TE7</td>\n",
       "      <td>small_airport</td>\n",
       "      <td>LBJ Ranch Airport</td>\n",
       "      <td>1515.0</td>\n",
       "      <td>US</td>\n",
       "      <td>US-TX</td>\n",
       "      <td>Johnson City</td>\n",
       "      <td>0TE7</td>\n",
       "      <td>JCY</td>\n",
       "      <td>-98.62249755859999, 30.251800537100003</td>\n",
       "    </tr>\n",
       "    <tr>\n",
       "      <th>1402</th>\n",
       "      <td>13MA</td>\n",
       "      <td>small_airport</td>\n",
       "      <td>Metropolitan Airport</td>\n",
       "      <td>418.0</td>\n",
       "      <td>US</td>\n",
       "      <td>US-MA</td>\n",
       "      <td>Palmer</td>\n",
       "      <td>13MA</td>\n",
       "      <td>PMX</td>\n",
       "      <td>-72.31140136719999, 42.223300933800004</td>\n",
       "    </tr>\n",
       "  </tbody>\n",
       "</table>\n",
       "</div>"
      ],
      "text/plain": [
       "     ident           type                     name  elevation_ft iso_country  \\\n",
       "223    03N  small_airport           Utirik Airport           4.0          MH   \n",
       "440   07FA  small_airport  Ocean Reef Club Airport           8.0          US   \n",
       "673   0CO2  small_airport    Crested Butte Airpark        8980.0          US   \n",
       "1088  0TE7  small_airport        LBJ Ranch Airport        1515.0          US   \n",
       "1402  13MA  small_airport     Metropolitan Airport         418.0          US   \n",
       "\n",
       "     iso_region   municipality gps_code iata_code  \\\n",
       "223      MH-UTI  Utirik Island     K03N       UTK   \n",
       "440       US-FL      Key Largo     07FA       OCA   \n",
       "673       US-CO  Crested Butte     0CO2       CSE   \n",
       "1088      US-TX   Johnson City     0TE7       JCY   \n",
       "1402      US-MA         Palmer     13MA       PMX   \n",
       "\n",
       "                                 coordinates  \n",
       "223                       169.852005, 11.222  \n",
       "440        -80.274803161621, 25.325399398804  \n",
       "673                   -106.928341, 38.851918  \n",
       "1088  -98.62249755859999, 30.251800537100003  \n",
       "1402  -72.31140136719999, 42.223300933800004  "
      ]
     },
     "execution_count": 14,
     "metadata": {},
     "output_type": "execute_result"
    }
   ],
   "source": [
    "# Removing continent and local_code features from airports dataframe,\n",
    "# and removing rows where IATA code is Nan as it uniquely identifies each row\n",
    "airport.drop(['continent', 'local_code'], axis = 1, inplace = True)\n",
    "airport.dropna(inplace = True)\n",
    "print(airport.shape)\n",
    "airport.head()"
   ]
  },
  {
   "cell_type": "code",
   "execution_count": 15,
   "metadata": {
    "editable": true
   },
   "outputs": [
    {
     "name": "stdout",
     "output_type": "stream",
     "text": [
      "(2875, 12)\n"
     ]
    },
    {
     "data": {
      "text/html": [
       "<div>\n",
       "<style scoped>\n",
       "    .dataframe tbody tr th:only-of-type {\n",
       "        vertical-align: middle;\n",
       "    }\n",
       "\n",
       "    .dataframe tbody tr th {\n",
       "        vertical-align: top;\n",
       "    }\n",
       "\n",
       "    .dataframe thead th {\n",
       "        text-align: right;\n",
       "    }\n",
       "</style>\n",
       "<table border=\"1\" class=\"dataframe\">\n",
       "  <thead>\n",
       "    <tr style=\"text-align: right;\">\n",
       "      <th></th>\n",
       "      <th>City</th>\n",
       "      <th>State</th>\n",
       "      <th>Median Age</th>\n",
       "      <th>Male Population</th>\n",
       "      <th>Female Population</th>\n",
       "      <th>Total Population</th>\n",
       "      <th>Number of Veterans</th>\n",
       "      <th>Foreign-born</th>\n",
       "      <th>Average Household Size</th>\n",
       "      <th>State Code</th>\n",
       "      <th>Race</th>\n",
       "      <th>Count</th>\n",
       "    </tr>\n",
       "  </thead>\n",
       "  <tbody>\n",
       "    <tr>\n",
       "      <th>0</th>\n",
       "      <td>Silver Spring</td>\n",
       "      <td>Maryland</td>\n",
       "      <td>33.8</td>\n",
       "      <td>40601.0</td>\n",
       "      <td>41862.0</td>\n",
       "      <td>82463</td>\n",
       "      <td>1562.0</td>\n",
       "      <td>30908.0</td>\n",
       "      <td>2.60</td>\n",
       "      <td>MD</td>\n",
       "      <td>Hispanic or Latino</td>\n",
       "      <td>25924</td>\n",
       "    </tr>\n",
       "    <tr>\n",
       "      <th>1</th>\n",
       "      <td>Quincy</td>\n",
       "      <td>Massachusetts</td>\n",
       "      <td>41.0</td>\n",
       "      <td>44129.0</td>\n",
       "      <td>49500.0</td>\n",
       "      <td>93629</td>\n",
       "      <td>4147.0</td>\n",
       "      <td>32935.0</td>\n",
       "      <td>2.39</td>\n",
       "      <td>MA</td>\n",
       "      <td>White</td>\n",
       "      <td>58723</td>\n",
       "    </tr>\n",
       "    <tr>\n",
       "      <th>2</th>\n",
       "      <td>Hoover</td>\n",
       "      <td>Alabama</td>\n",
       "      <td>38.5</td>\n",
       "      <td>38040.0</td>\n",
       "      <td>46799.0</td>\n",
       "      <td>84839</td>\n",
       "      <td>4819.0</td>\n",
       "      <td>8229.0</td>\n",
       "      <td>2.58</td>\n",
       "      <td>AL</td>\n",
       "      <td>Asian</td>\n",
       "      <td>4759</td>\n",
       "    </tr>\n",
       "    <tr>\n",
       "      <th>3</th>\n",
       "      <td>Rancho Cucamonga</td>\n",
       "      <td>California</td>\n",
       "      <td>34.5</td>\n",
       "      <td>88127.0</td>\n",
       "      <td>87105.0</td>\n",
       "      <td>175232</td>\n",
       "      <td>5821.0</td>\n",
       "      <td>33878.0</td>\n",
       "      <td>3.18</td>\n",
       "      <td>CA</td>\n",
       "      <td>Black or African-American</td>\n",
       "      <td>24437</td>\n",
       "    </tr>\n",
       "    <tr>\n",
       "      <th>4</th>\n",
       "      <td>Newark</td>\n",
       "      <td>New Jersey</td>\n",
       "      <td>34.6</td>\n",
       "      <td>138040.0</td>\n",
       "      <td>143873.0</td>\n",
       "      <td>281913</td>\n",
       "      <td>5829.0</td>\n",
       "      <td>86253.0</td>\n",
       "      <td>2.73</td>\n",
       "      <td>NJ</td>\n",
       "      <td>White</td>\n",
       "      <td>76402</td>\n",
       "    </tr>\n",
       "  </tbody>\n",
       "</table>\n",
       "</div>"
      ],
      "text/plain": [
       "               City          State  Median Age  Male Population  \\\n",
       "0     Silver Spring       Maryland        33.8          40601.0   \n",
       "1            Quincy  Massachusetts        41.0          44129.0   \n",
       "2            Hoover        Alabama        38.5          38040.0   \n",
       "3  Rancho Cucamonga     California        34.5          88127.0   \n",
       "4            Newark     New Jersey        34.6         138040.0   \n",
       "\n",
       "   Female Population  Total Population  Number of Veterans  Foreign-born  \\\n",
       "0            41862.0             82463              1562.0       30908.0   \n",
       "1            49500.0             93629              4147.0       32935.0   \n",
       "2            46799.0             84839              4819.0        8229.0   \n",
       "3            87105.0            175232              5821.0       33878.0   \n",
       "4           143873.0            281913              5829.0       86253.0   \n",
       "\n",
       "   Average Household Size State Code                       Race  Count  \n",
       "0                    2.60         MD         Hispanic or Latino  25924  \n",
       "1                    2.39         MA                      White  58723  \n",
       "2                    2.58         AL                      Asian   4759  \n",
       "3                    3.18         CA  Black or African-American  24437  \n",
       "4                    2.73         NJ                      White  76402  "
      ]
     },
     "execution_count": 15,
     "metadata": {},
     "output_type": "execute_result"
    }
   ],
   "source": [
    "# Removing rows with Nans in cities demographics dataframe\n",
    "cities.dropna(inplace = True)\n",
    "print(cities.shape)\n",
    "cities.head()"
   ]
  },
  {
   "cell_type": "code",
   "execution_count": 16,
   "metadata": {
    "editable": true
   },
   "outputs": [
    {
     "name": "stdout",
     "output_type": "stream",
     "text": [
      "(8235082, 7)\n"
     ]
    },
    {
     "data": {
      "text/html": [
       "<div>\n",
       "<style scoped>\n",
       "    .dataframe tbody tr th:only-of-type {\n",
       "        vertical-align: middle;\n",
       "    }\n",
       "\n",
       "    .dataframe tbody tr th {\n",
       "        vertical-align: top;\n",
       "    }\n",
       "\n",
       "    .dataframe thead th {\n",
       "        text-align: right;\n",
       "    }\n",
       "</style>\n",
       "<table border=\"1\" class=\"dataframe\">\n",
       "  <thead>\n",
       "    <tr style=\"text-align: right;\">\n",
       "      <th></th>\n",
       "      <th>dt</th>\n",
       "      <th>AverageTemperature</th>\n",
       "      <th>AverageTemperatureUncertainty</th>\n",
       "      <th>City</th>\n",
       "      <th>Country</th>\n",
       "      <th>Latitude</th>\n",
       "      <th>Longitude</th>\n",
       "    </tr>\n",
       "  </thead>\n",
       "  <tbody>\n",
       "    <tr>\n",
       "      <th>0</th>\n",
       "      <td>1743-11-01</td>\n",
       "      <td>6.068</td>\n",
       "      <td>1.737</td>\n",
       "      <td>Århus</td>\n",
       "      <td>Denmark</td>\n",
       "      <td>57.05N</td>\n",
       "      <td>10.33E</td>\n",
       "    </tr>\n",
       "    <tr>\n",
       "      <th>5</th>\n",
       "      <td>1744-04-01</td>\n",
       "      <td>5.788</td>\n",
       "      <td>3.624</td>\n",
       "      <td>Århus</td>\n",
       "      <td>Denmark</td>\n",
       "      <td>57.05N</td>\n",
       "      <td>10.33E</td>\n",
       "    </tr>\n",
       "    <tr>\n",
       "      <th>6</th>\n",
       "      <td>1744-05-01</td>\n",
       "      <td>10.644</td>\n",
       "      <td>1.283</td>\n",
       "      <td>Århus</td>\n",
       "      <td>Denmark</td>\n",
       "      <td>57.05N</td>\n",
       "      <td>10.33E</td>\n",
       "    </tr>\n",
       "    <tr>\n",
       "      <th>7</th>\n",
       "      <td>1744-06-01</td>\n",
       "      <td>14.051</td>\n",
       "      <td>1.347</td>\n",
       "      <td>Århus</td>\n",
       "      <td>Denmark</td>\n",
       "      <td>57.05N</td>\n",
       "      <td>10.33E</td>\n",
       "    </tr>\n",
       "    <tr>\n",
       "      <th>8</th>\n",
       "      <td>1744-07-01</td>\n",
       "      <td>16.082</td>\n",
       "      <td>1.396</td>\n",
       "      <td>Århus</td>\n",
       "      <td>Denmark</td>\n",
       "      <td>57.05N</td>\n",
       "      <td>10.33E</td>\n",
       "    </tr>\n",
       "  </tbody>\n",
       "</table>\n",
       "</div>"
      ],
      "text/plain": [
       "           dt  AverageTemperature  AverageTemperatureUncertainty   City  \\\n",
       "0  1743-11-01               6.068                          1.737  Århus   \n",
       "5  1744-04-01               5.788                          3.624  Århus   \n",
       "6  1744-05-01              10.644                          1.283  Århus   \n",
       "7  1744-06-01              14.051                          1.347  Århus   \n",
       "8  1744-07-01              16.082                          1.396  Århus   \n",
       "\n",
       "   Country Latitude Longitude  \n",
       "0  Denmark   57.05N    10.33E  \n",
       "5  Denmark   57.05N    10.33E  \n",
       "6  Denmark   57.05N    10.33E  \n",
       "7  Denmark   57.05N    10.33E  \n",
       "8  Denmark   57.05N    10.33E  "
      ]
     },
     "execution_count": 16,
     "metadata": {},
     "output_type": "execute_result"
    }
   ],
   "source": [
    "# Removing rows with Nans in world temperature dataframe\n",
    "temp.dropna(inplace = True)\n",
    "print(temp.shape)\n",
    "temp.head()"
   ]
  },
  {
   "cell_type": "code",
   "execution_count": 17,
   "metadata": {
    "editable": true
   },
   "outputs": [
    {
     "name": "stdout",
     "output_type": "stream",
     "text": [
      "31103104\n",
      "+---------+------+------+------+-------+-------+-------+-------+-------+------+-------+-----+--------+-------+-------+-------+-------+--------+------+-------+-------------+-----+--------+------+\n",
      "|    cicid| i94yr|i94cit|i94res|i94port|arrdate|i94mode|i94addr|depdate|i94bir|i94visa|count|dtadfile|entdepa|entdepd|matflag|biryear| dtaddto|gender|airline|       admnum|fltno|visatype|i94mon|\n",
      "+---------+------+------+------+-------+-------+-------+-------+-------+------+-------+-----+--------+-------+-------+-------+-------+--------+------+-------+-------------+-----+--------+------+\n",
      "|5680950.0|2016.0| 245.0| 245.0|    DET|20659.0|    1.0|     IL|20679.0|  46.0|    2.0|  1.0|20160813|      G|      O|      M| 1970.0|01232017|     M|     DL|2.947451085E9|  188|      B2|   7.0|\n",
      "|5680953.0|2016.0| 245.0| 245.0|    SEA|20659.0|    1.0|     WA|20670.0|  36.0|    2.0|  1.0|20160804|      G|      O|      M| 1980.0|01232017|     F|     OZ|2.947454785E9|  272|      B2|   7.0|\n",
      "|5680954.0|2016.0| 135.0| 135.0|    ORL|20659.0|    1.0|     FL|20673.0|  17.0|    2.0|  1.0|20160808|      O|      O|      M| 1999.0|10212016|     F|     MT|2.947455685E9|  176|      WT|   7.0|\n",
      "|5680956.0|2016.0| 213.0| 213.0|    MIA|20659.0|    1.0|     FL|20728.0|  23.0|    2.0|  1.0|20160724|      G|      O|      M| 1993.0|01232017|     M|     QR|2.947457485E9|  777|      B2|   7.0|\n",
      "|5680958.0|2016.0| 689.0| 689.0|    ORL|20659.0|    1.0|     FL|20663.0|  56.0|    2.0|  1.0|20160729|      G|      O|      M| 1960.0|01232017|     F|     JJ|2.947459285E9| 8086|      B2|   7.0|\n",
      "|5680964.0|2016.0| 104.0| 104.0|    LVG|20659.0|    1.0|     UT|20680.0|  14.0|    2.0|  1.0|20160815|      G|      O|      M| 2002.0|10212016|     M|     DE|2.947465785E9| 2062|      WT|   7.0|\n",
      "|5680967.0|2016.0| 254.0| 276.0|    HHW|20659.0|    1.0|     HI|20664.0|  31.0|    2.0|  1.0|20160730|      G|      O|      M| 1985.0|10212016|     M|     KE|2.947468485E9|   53|      WT|   7.0|\n",
      "|5680968.0|2016.0| 245.0| 245.0|    SEA|20659.0|    1.0|     WA|20666.0|  53.0|    2.0|  1.0|20160801|      G|      O|      M| 1963.0|01232017|     F|     OZ|2.947469385E9|  272|      B2|   7.0|\n",
      "|5680971.0|2016.0| 108.0| 108.0|    DEN|20659.0|    1.0|     CO|20685.0|  30.0|    2.0|  1.0|20160820|      G|      O|      M| 1986.0|10212016|     F|     LH|2.947472085E9|  446|      WT|   7.0|\n",
      "|5680972.0|2016.0| 148.0| 112.0|    LVG|20659.0|    1.0|     NV|20679.0|  54.0|    2.0|  1.0|20160814|      G|      O|      M| 1962.0|10212016|     M|     DE|2.947473085E9| 2062|      WT|   7.0|\n",
      "|5680973.0|2016.0| 582.0| 582.0|    OAK|20659.0|    1.0|     CA|20673.0|  42.0|    2.0|  1.0|20160807|      G|      O|      M| 1974.0|01232017|     F|     Y4|2.947474985E9|  988|      B2|   7.0|\n",
      "|5680974.0|2016.0| 696.0| 696.0|    MIA|20659.0|    1.0|     FL|20697.0|  41.0|    2.0|  1.0|20160831|      G|      N|      M| 1975.0|01232017|     F|     AA|2.947475885E9|  968|      B2|   7.0|\n",
      "|5680975.0|2016.0| 689.0| 689.0|    MIA|20659.0|    1.0|     FL|20678.0|  75.0|    2.0|  1.0|20160813|      G|      O|      M| 1941.0|01232017|     M|     JJ|2.947476785E9| 8042|      B2|   7.0|\n",
      "|5680976.0|2016.0| 689.0| 689.0|    MIA|20659.0|    1.0|     LA|20713.0|  61.0|    2.0|  1.0|20160724|      T|      I|      M| 1955.0|01232017|     F|     JJ|2.947477685E9| 8042|      B2|   7.0|\n",
      "|5680980.0|2016.0| 209.0| 209.0|    BOS|20659.0|    1.0|     MA|20663.0|  49.0|    1.0|  1.0|20160728|      O|      O|      M| 1967.0|10212016|     M|     JL|2.947481285E9|    8|      WB|   7.0|\n",
      "|5680982.0|2016.0| 117.0| 117.0|    ATL|20659.0|    1.0|     AZ|20682.0|  17.0|    2.0|  1.0|20160817|      G|      Q|      M| 1999.0|10212016|     F|     DL|2.947483085E9|   65|      WT|   7.0|\n",
      "|5680983.0|2016.0| 245.0| 245.0|    CHI|20659.0|    1.0|     SC|20666.0|  39.0|    1.0|  1.0|20160731|      G|      O|      M| 1977.0|01232017|     M|     UA|2.947484085E9|  836|      B1|   7.0|\n",
      "|5680984.0|2016.0| 117.0| 117.0|    NYC|20659.0|    1.0|     US|20660.0|  49.0|    2.0|  1.0|20160725|      O|      O|      M| 1967.0|10212016|     M|     IG|2.947485985E9| 3940|      WT|   7.0|\n",
      "|5680985.0|2016.0| 117.0| 117.0|    NYC|20659.0|    1.0|     US|20660.0|  28.0|    2.0|  1.0|20160725|      O|      O|      M| 1988.0|10212016|     F|     IG|2.947486885E9| 3940|      WT|   7.0|\n",
      "|5680986.0|2016.0| 135.0| 135.0|    ORL|20659.0|    1.0|     FL|20676.0|  18.0|    2.0|  1.0|20160811|      G|      O|      M| 1998.0|10212016|     M|     MT|2.947487785E9|  176|      WT|   7.0|\n",
      "+---------+------+------+------+-------+-------+-------+-------+-------+------+-------+-----+--------+-------+-------+-------+-------+--------+------+-------+-------------+-----+--------+------+\n",
      "only showing top 20 rows\n",
      "\n"
     ]
    }
   ],
   "source": [
    "# Removing continent and local_code features from airports dataframe,\n",
    "# and removing rows where IATA code is Nan as it uniquely identifies each row\n",
    "immigration = immigration.drop('visapost', 'occup', 'entdepu', 'insnum')\n",
    "immigration = immigration.dropna()\n",
    "print(immigration.count())\n",
    "immigration.show()"
   ]
  },
  {
   "cell_type": "markdown",
   "metadata": {
    "editable": true
   },
   "source": [
    "#### Handling data duplication\n",
    "\n",
    "Removing duplicate rows from all the data sets, if any."
   ]
  },
  {
   "cell_type": "code",
   "execution_count": 20,
   "metadata": {
    "editable": true
   },
   "outputs": [
    {
     "name": "stdout",
     "output_type": "stream",
     "text": [
      "(7561, 10)\n",
      "(2875, 12)\n",
      "(8235082, 7)\n",
      "31103104\n"
     ]
    }
   ],
   "source": [
    "# Dropping duplicates from all the datasets\n",
    "airport.drop_duplicates(subset = ['iata_code'])\n",
    "print(airport.shape)\n",
    "cities.drop_duplicates(subset = ['City', 'State', 'Race'])\n",
    "print(cities.shape)\n",
    "temp.drop_duplicates()\n",
    "print(temp.shape)\n",
    "immigration.dropDuplicates()\n",
    "print(immigration.count())"
   ]
  },
  {
   "cell_type": "markdown",
   "metadata": {
    "editable": true
   },
   "source": [
    "### Step 3: Define the Data Model\n",
    "#### 3.1 Conceptual Data Model\n",
    "The conceptual data model can be seen below:\n",
    "<img src=\"images/dend.jpg\">\n",
    "\n",
    "This data model was based on the star schema design with i94 data as the fact table and various dimension tables. This model offers efficient analysis of data for the US immigration patterns and provide essential dimension tables for more detailed information.\n",
    "The immigrant dimension table provides all the personal details for an immigrant like gender, birth year, country of origin, etc. The airport dimension table can be utilized when more detail about an airport is needed like, city of the airport, its type, airport name, etc. US demographics dimension table can be utilized to gather information about demographics in all the cities of a particular state, for example female population, ethnicities, total population, etc., which can help in determining if there's a demographic pattern in states with higher number of immigrants. The arrival and departure dimension tables provide date, year, month and week of the arrival and departure dates.\n",
    "\n",
    "#### 3.2 Mapping Out Data Pipelines\n",
    "The steps necessary to pipeline the data into the chosen data model are:\n",
    "1. Load the spark dataframe for airports using the cleaned dataset.\n",
    "2. Create the Airport dimension table with IATA code as the primary key from airport dataframe, which can be linked to the I94 port of the I94 fact table.\n",
    "3. Load the spark dataframe for US demographics using the cleaned dataset.\n",
    "4. Create the US demographics dimension table with a Unique ID for each row from cities data frame, and it can be linked to the State code of the I94 fact table.\n",
    "5. Load the immigration data frame.\n",
    "6. Create the I94 fact table with all the essential fetures and cicid as the primary key from immigration dataframe.\n",
    "7. Create the Immigrants dimension table with cicid as the primary key from immigration data frame, and it can be linked to the cicid column of the I94 fact table.\n",
    "8. Create the arrival date dimension table with arrival date as the primary key and it lists out all the features of the date. It is created using the immigration data frame and can be linked to the arrdate column of the i94 fact table.\n",
    "9. Create the departure date dimension table with departure date as the primary key and it lists out all the features of the date. It is created using the immigration data frame and can be linked to the depdate column of the i94 fact table."
   ]
  },
  {
   "cell_type": "code",
   "execution_count": 21,
   "metadata": {
    "editable": true
   },
   "outputs": [
    {
     "name": "stdout",
     "output_type": "stream",
     "text": [
      "+-----+--------+\n",
      "|count|   count|\n",
      "+-----+--------+\n",
      "|  1.0|31103104|\n",
      "+-----+--------+\n",
      "\n"
     ]
    }
   ],
   "source": [
    "# Not using count in immigration data since it has only one value '1' for all the records\n",
    "immigration.groupBy(\"count\").count().show()\n",
    "\n",
    "# Hence this column is not included in the data lake"
   ]
  },
  {
   "cell_type": "markdown",
   "metadata": {
    "editable": true
   },
   "source": [
    "### Step 4: Run Pipelines to Model the Data \n",
    "#### 4.1 Create the data model\n",
    "Build the data pipelines to create the data model."
   ]
  },
  {
   "cell_type": "code",
   "execution_count": 22,
   "metadata": {
    "editable": true
   },
   "outputs": [],
   "source": [
    "# Path to output directory\n",
    "OUTPUT_DATA = \"s3a://udacity-srishti-capstone/\""
   ]
  },
  {
   "cell_type": "code",
   "execution_count": 25,
   "metadata": {
    "editable": true
   },
   "outputs": [],
   "source": [
    "def process_airport_table(spark, airport_df):\n",
    "    \"\"\"\n",
    "    Description: This function processes the airport dataframe and creates\n",
    "                 the airport dimension table. It also creates the final parquet data\n",
    "                 on the S3 bucket to be used for further analytics.\n",
    "    Parameters:\n",
    "            @input: spark - Spark Session, airport_df - Airport dataframe\n",
    "            @output: airport_table - Final airport dimension table\n",
    "    \"\"\"\n",
    "    airport_spark_df = spark.createDataFrame(airport_df)\n",
    "    airport_spark_df.createOrReplaceTempView(\"airport_spark_table\")\n",
    "    airport_table = spark.sql(\"\"\"SELECT\n",
    "                                    ident AS identifier,\n",
    "                                    type,\n",
    "                                    name,\n",
    "                                    elevation_ft,\n",
    "                                    iso_country,\n",
    "                                    iso_region,\n",
    "                                    municipality,\n",
    "                                    gps_code,\n",
    "                                    iata_code,\n",
    "                                    SPLIT(coordinates,',')[0]  AS coordinatex,\n",
    "                                    SPLIT(coordinates,',')[1]  AS coordinatey\n",
    "                                    FROM airport_spark_table\n",
    "                              \"\"\")\n",
    "    airport_table = airport_table.dropDuplicates(['iata_code'])\n",
    "    airport_table.write.mode('overwrite').partitionBy('iata_code').parquet(OUTPUT_DATA + \"airport.parquet\")\n",
    "    return airport_table"
   ]
  },
  {
   "cell_type": "code",
   "execution_count": 26,
   "metadata": {
    "editable": true
   },
   "outputs": [
    {
     "name": "stdout",
     "output_type": "stream",
     "text": [
      "root\n",
      " |-- identifier: string (nullable = true)\n",
      " |-- type: string (nullable = true)\n",
      " |-- name: string (nullable = true)\n",
      " |-- elevation_ft: double (nullable = true)\n",
      " |-- iso_country: string (nullable = true)\n",
      " |-- iso_region: string (nullable = true)\n",
      " |-- municipality: string (nullable = true)\n",
      " |-- gps_code: string (nullable = true)\n",
      " |-- iata_code: string (nullable = true)\n",
      " |-- coordinatex: string (nullable = true)\n",
      " |-- coordinatey: string (nullable = true)\n",
      "\n",
      "+----------+--------------+--------------------+------------+-----------+----------+--------------------+--------+---------+------------------+--------------------+\n",
      "|identifier|          type|                name|elevation_ft|iso_country|iso_region|        municipality|gps_code|iata_code|       coordinatex|         coordinatey|\n",
      "+----------+--------------+--------------------+------------+-----------+----------+--------------------+--------+---------+------------------+--------------------+\n",
      "|      VAAK|medium_airport|       Akola Airport|       999.0|         IN|     IN-MM|               Akola|    VAAK|      AKD|         77.058601|           20.698999|\n",
      "|      KBGM|medium_airport|Greater Binghamto...|      1636.0|         US|     US-NY|          Binghamton|    KBGM|      BGM|      -75.97979736|         42.20869827|\n",
      "|      2TE0| small_airport|      Eagle Air Park|        15.0|         US|     US-TX|            Brazoria|    2TE0|      BZT|  -95.579696655273|     28.982200622559|\n",
      "|      YPCC|medium_airport|Cocos (Keeling) I...|        10.0|         CC|    CC-U-A|Cocos (Keeling) I...|    YPCC|      CCK|     96.8339004517|      -12.1883001328|\n",
      "|      MMIA|medium_airport|Licenciado Miguel...|      2467.0|         MX|    MX-COL|              Colima|    MMIA|      CLQ|       -103.577002|              19.277|\n",
      "|      KCNU|medium_airport|Chanute Martin Jo...|      1002.0|         US|     US-KS|             Chanute|    KCNU|      CNU|    -95.4850997925|        37.668800354|\n",
      "|      KCRS| small_airport|C David Campbell ...|       449.0|         US|     US-TX|           Corsicana|    KCRS|      CRS|    -96.4005966187|       32.0280990601|\n",
      "|      KFMY|medium_airport|          Page Field|        17.0|         US|     US-FL|          Fort Myers|    KFMY|      FMY|-81.86329650879999|         26.58659935|\n",
      "|      NZGS|medium_airport|    Gisborne Airport|        15.0|         NZ|    NZ-GIS|            Gisborne|    NZGS|      GIS|177.97799682617188| -38.663299560546875|\n",
      "|      OIIK|medium_airport|      Qazvin Airport|      4184.0|         IR|     IR-28|              Qazvin|    OIIK|      GZW|           50.0471|           36.240101|\n",
      "+----------+--------------+--------------------+------------+-----------+----------+--------------------+--------+---------+------------------+--------------------+\n",
      "only showing top 10 rows\n",
      "\n"
     ]
    }
   ],
   "source": [
    "# Creating airport table and parquet file\n",
    "airport_table = process_airport_table(spark, airport)\n",
    "airport_table.printSchema()\n",
    "airport_table.show(10)"
   ]
  },
  {
   "cell_type": "code",
   "execution_count": 29,
   "metadata": {
    "editable": true
   },
   "outputs": [],
   "source": [
    "def process_usdemographics_table(spark, demographs_df):\n",
    "    \"\"\"\n",
    "    Description: This function processes the demographics dataframe and creates\n",
    "                 the US demographics dimension table. It also creates the final parquet data\n",
    "                 on the S3 bucket to be used for further analytics.\n",
    "    Parameters:\n",
    "            @input: spark - Spark Session, demographs_df - Demographics dataframe\n",
    "            @output: demographics_table - Final demographics dimension table\n",
    "    \"\"\"\n",
    "    demographs_spark_df = spark.createDataFrame(demographs_df)\n",
    "    demographs_spark_df.createOrReplaceTempView(\"cities_spark_table\")\n",
    "    demographics_table = spark.sql(\"\"\"SELECT\n",
    "                                    monotonically_increasing_id() AS demo_id,\n",
    "                                    City AS city,\n",
    "                                    State AS state,\n",
    "                                    Race AS race,\n",
    "                                    'State Code' AS state_code,\n",
    "                                    'Median Age' AS age_median,\n",
    "                                    'Male Population' AS male,\n",
    "                                    'Female Population' AS female,\n",
    "                                    'Total Population' AS total_population,\n",
    "                                    'Number of Veterans' AS veterans,\n",
    "                                    'Foreign-born' AS foreign_borns,\n",
    "                                    'Average Household Size' AS household_size,\n",
    "                                    Count AS count\n",
    "                                    FROM cities_spark_table\n",
    "                              \"\"\")\n",
    "    demographics_table = demographics_table.dropDuplicates(['city', 'state', 'race'])\n",
    "    demographics_table.write.mode('overwrite').partitionBy('city').parquet(OUTPUT_DATA + \"demographics.parquet\")\n",
    "    return demographics_table"
   ]
  },
  {
   "cell_type": "code",
   "execution_count": 30,
   "metadata": {
    "editable": true
   },
   "outputs": [
    {
     "name": "stdout",
     "output_type": "stream",
     "text": [
      "root\n",
      " |-- demo_id: long (nullable = false)\n",
      " |-- city: string (nullable = true)\n",
      " |-- state: string (nullable = true)\n",
      " |-- race: string (nullable = true)\n",
      " |-- state_code: string (nullable = false)\n",
      " |-- age_median: string (nullable = false)\n",
      " |-- male: string (nullable = false)\n",
      " |-- female: string (nullable = false)\n",
      " |-- total_population: string (nullable = false)\n",
      " |-- veterans: string (nullable = false)\n",
      " |-- foreign_borns: string (nullable = false)\n",
      " |-- household_size: string (nullable = false)\n",
      " |-- count: long (nullable = true)\n",
      "\n",
      "+-------+----------------+----------+--------------------+----------+----------+---------------+-----------------+----------------+------------------+-------------+--------------------+------+\n",
      "|demo_id|            city|     state|                race|state_code|age_median|           male|           female|total_population|          veterans|foreign_borns|      household_size| count|\n",
      "+-------+----------------+----------+--------------------+----------+----------+---------------+-----------------+----------------+------------------+-------------+--------------------+------+\n",
      "|    122|      Las Cruces|New Mexico|               White|State Code|Median Age|Male Population|Female Population|Total Population|Number of Veterans| Foreign-born|Average Household...| 91201|\n",
      "|    134|         Alafaya|   Florida|               White|State Code|Median Age|Male Population|Female Population|Total Population|Number of Veterans| Foreign-born|Average Household...| 63666|\n",
      "|    252|         Houston|     Texas|               Asian|State Code|Median Age|Male Population|Female Population|Total Population|Number of Veterans| Foreign-born|Average Household...|173854|\n",
      "|    456|       Rockville|  Maryland|American Indian a...|State Code|Median Age|Male Population|Female Population|Total Population|Number of Veterans| Foreign-born|Average Household...|   594|\n",
      "|    710|      Round Rock|     Texas|  Hispanic or Latino|State Code|Median Age|Male Population|Female Population|Total Population|Number of Veterans| Foreign-born|Average Household...| 37151|\n",
      "|    918|San Buenaventura|California|               Asian|State Code|Median Age|Male Population|Female Population|Total Population|Number of Veterans| Foreign-born|Average Household...|  6547|\n",
      "|    953|    Redwood City|California|Black or African-...|State Code|Median Age|Male Population|Female Population|Total Population|Number of Veterans| Foreign-born|Average Household...|  2758|\n",
      "|   1186|    Baldwin Park|California|Black or African-...|State Code|Median Age|Male Population|Female Population|Total Population|Number of Veterans| Foreign-born|Average Household...|  1560|\n",
      "|   1351|        Plymouth| Minnesota|               Asian|State Code|Median Age|Male Population|Female Population|Total Population|Number of Veterans| Foreign-born|Average Household...|  5561|\n",
      "|   1455|         Yonkers|  New York|               White|State Code|Median Age|Male Population|Female Population|Total Population|Number of Veterans| Foreign-born|Average Household...|129492|\n",
      "+-------+----------------+----------+--------------------+----------+----------+---------------+-----------------+----------------+------------------+-------------+--------------------+------+\n",
      "only showing top 10 rows\n",
      "\n"
     ]
    }
   ],
   "source": [
    "# Creating demographics table and parquet file\n",
    "demographics_table = process_usdemographics_table(spark, cities)\n",
    "demographics_table.printSchema()\n",
    "demographics_table.show(10)"
   ]
  },
  {
   "cell_type": "code",
   "execution_count": 52,
   "metadata": {
    "editable": true
   },
   "outputs": [],
   "source": [
    "def process_i94_table(spark, i94_df):\n",
    "    \"\"\"\n",
    "    Description: This function processes the i94 dataframe and creates\n",
    "                 the I94 fact table, immigrant, arrival date, departure date dimension tables.\n",
    "                 It also creates the final parquet data\n",
    "                 on the S3 bucket to be used for further analytics.\n",
    "    Parameters:\n",
    "            @input: spark - Spark Session, i94_df - Demographics dataframe\n",
    "            @output: [i94_fact_table, immigrant_table, arrival_table, departure_table]\n",
    "                     Final fact and dimension tables\n",
    "    \"\"\"\n",
    "    # Datetime conversion\n",
    "    udf_datetime = udf(lambda x: (dt.datetime(1960, 1, 1).date() + dt.timedelta(x)).isoformat() if x else None)\n",
    "    \n",
    "    i94_df.createOrReplaceTempView(\"i94_spark_table\")\n",
    "    \n",
    "    #I94 Fact Table\n",
    "    i94_fact_table = spark.sql(\"\"\"SELECT\n",
    "                                    cicid,\n",
    "                                    i94yr,\n",
    "                                    i94port,\n",
    "                                    i94mode,\n",
    "                                    i94addr,\n",
    "                                    depdate,\n",
    "                                    i94visa,\n",
    "                                    arrdate,\n",
    "                                    dtadfile,\n",
    "                                    entdepa,\n",
    "                                    entdepd,\n",
    "                                    matflag,\n",
    "                                    admnum,\n",
    "                                    i94mon\n",
    "                                    FROM i94_spark_table\n",
    "                              \"\"\")\n",
    "    i94_fact_table = i94_fact_table.withColumn(\"arrdate\", udf_datetime(i94_df.arrdate))\n",
    "    i94_fact_table = i94_fact_table.withColumn(\"depdate\", udf_datetime(i94_df.depdate))\n",
    "    i94_fact_table = i94_fact_table.dropDuplicates(['cicid'])\n",
    "    i94_fact_table.write.mode('overwrite').partitionBy('i94mon').parquet(OUTPUT_DATA + \"i94fact.parquet\")\n",
    "    \n",
    "    # Immigrant Table\n",
    "    immigrant_table = spark.sql(\"\"\"SELECT\n",
    "                                    cicid,\n",
    "                                    i94cit,\n",
    "                                    i94res,\n",
    "                                    i94bir,\n",
    "                                    biryear,\n",
    "                                    dtaddto,\n",
    "                                    gender,\n",
    "                                    airline,\n",
    "                                    fltno,\n",
    "                                    visatype\n",
    "                                    FROM i94_spark_table\n",
    "                              \"\"\")\n",
    "    immigrant_table = immigrant_table.dropDuplicates(['cicid'])\n",
    "    immigrant_table.write.mode('overwrite').partitionBy('i94res').parquet(OUTPUT_DATA + \"immigrant.parquet\")\n",
    "    \n",
    "    # Arrival Date Table\n",
    "    arrival_table = i94_df.select(['arrdate']).withColumn(\"arrdate\", udf_datetime(i94_df.arrdate))\n",
    "    arrival_table = arrival_table.withColumn('day', dayofmonth('arrdate'))\n",
    "    arrival_table = arrival_table.withColumn('week', weekofyear('arrdate'))\n",
    "    arrival_table = arrival_table.withColumn('month', month('arrdate'))\n",
    "    arrival_table = arrival_table.withColumn('year', year('arrdate'))\n",
    "    \n",
    "    arrival_table = arrival_table.dropDuplicates()\n",
    "    arrival_table.write.mode('overwrite').partitionBy('year').parquet(OUTPUT_DATA + \"arrival.parquet\")\n",
    "    \n",
    "    # Departure Date Table\n",
    "    departure_table = i94_df.select(['depdate']).withColumn(\"depdate\", udf_datetime(i94_df.depdate))\n",
    "    departure_table = departure_table.withColumn('day', dayofmonth('depdate'))\n",
    "    departure_table = departure_table.withColumn('week', weekofyear('depdate'))\n",
    "    departure_table = departure_table.withColumn('month', month('depdate'))\n",
    "    departure_table = departure_table.withColumn('year', year('depdate'))\n",
    "    \n",
    "    departure_table = departure_table.dropDuplicates()\n",
    "    departure_table.write.mode('overwrite').partitionBy('year').parquet(OUTPUT_DATA + \"departure.parquet\")\n",
    "    \n",
    "    return [i94_fact_table, immigrant_table, arrival_table, departure_table]"
   ]
  },
  {
   "cell_type": "code",
   "execution_count": 53,
   "metadata": {
    "editable": true
   },
   "outputs": [
    {
     "name": "stdout",
     "output_type": "stream",
     "text": [
      "root\n",
      " |-- cicid: double (nullable = true)\n",
      " |-- i94yr: double (nullable = true)\n",
      " |-- i94port: string (nullable = true)\n",
      " |-- i94mode: double (nullable = true)\n",
      " |-- i94addr: string (nullable = true)\n",
      " |-- depdate: string (nullable = true)\n",
      " |-- i94visa: double (nullable = true)\n",
      " |-- arrdate: string (nullable = true)\n",
      " |-- dtadfile: string (nullable = true)\n",
      " |-- entdepa: string (nullable = true)\n",
      " |-- entdepd: string (nullable = true)\n",
      " |-- matflag: string (nullable = true)\n",
      " |-- admnum: double (nullable = true)\n",
      " |-- i94mon: double (nullable = true)\n",
      "\n",
      "+-----+------+-------+-------+-------+----------+-------+----------+--------+-------+-------+-------+---------------+------+\n",
      "|cicid| i94yr|i94port|i94mode|i94addr|   depdate|i94visa|   arrdate|dtadfile|entdepa|entdepd|matflag|         admnum|i94mon|\n",
      "+-----+------+-------+-------+-------+----------+-------+----------+--------+-------+-------+-------+---------------+------+\n",
      "|299.0|2016.0|    LOS|    1.0|     AL|2016-05-08|    2.0|2016-05-01|20160501|      G|      O|      M|5.9632191833E10|   5.0|\n",
      "|305.0|2016.0|    MIA|    1.0|     FL|2016-11-10|    2.0|2016-11-01|20161101|      T|      Q|      M|1.2928558685E10|  11.0|\n",
      "|496.0|2016.0|    NEW|    1.0|     NJ|2016-07-07|    2.0|2016-07-01|20160701|      G|      O|      M|6.3099382633E10|   7.0|\n",
      "|558.0|2016.0|    CHI|    1.0|     IL|2016-07-07|    2.0|2016-07-01|20160701|      G|      O|      M|6.3099674033E10|   7.0|\n",
      "|596.0|2016.0|    MIA|    1.0|     FL|2016-11-05|    2.0|2016-11-01|20161101|      T|      O|      M|1.2927359685E10|  11.0|\n",
      "+-----+------+-------+-------+-------+----------+-------+----------+--------+-------+-------+-------+---------------+------+\n",
      "only showing top 5 rows\n",
      "\n"
     ]
    }
   ],
   "source": [
    "# Creating i94 fact table and parquet file\n",
    "i94_fact_table = process_i94_table(spark, immigration)[0]\n",
    "i94_fact_table.printSchema()\n",
    "i94_fact_table.show(5)"
   ]
  },
  {
   "cell_type": "code",
   "execution_count": 54,
   "metadata": {
    "editable": true
   },
   "outputs": [
    {
     "name": "stdout",
     "output_type": "stream",
     "text": [
      "root\n",
      " |-- cicid: double (nullable = true)\n",
      " |-- i94cit: double (nullable = true)\n",
      " |-- i94res: double (nullable = true)\n",
      " |-- i94bir: double (nullable = true)\n",
      " |-- biryear: double (nullable = true)\n",
      " |-- dtaddto: string (nullable = true)\n",
      " |-- gender: string (nullable = true)\n",
      " |-- airline: string (nullable = true)\n",
      " |-- fltno: string (nullable = true)\n",
      " |-- visatype: string (nullable = true)\n",
      "\n",
      "+-----+------+------+------+-------+--------+------+-------+-----+--------+\n",
      "|cicid|i94cit|i94res|i94bir|biryear| dtaddto|gender|airline|fltno|visatype|\n",
      "+-----+------+------+------+-------+--------+------+-------+-----+--------+\n",
      "|299.0| 103.0| 103.0|  20.0| 1996.0|07292016|     F|     DY|07095|      WT|\n",
      "|305.0| 111.0| 111.0|  42.0| 1974.0|01292017|     M|     AF|   90|      WT|\n",
      "|496.0| 103.0| 103.0|  17.0| 1999.0|09282016|     M|     LH|00412|      WT|\n",
      "|558.0| 110.0| 110.0|  65.0| 1951.0|09282016|     F|     AY|00009|      WT|\n",
      "|596.0| 504.0| 504.0|  44.0| 1972.0|04302017|     M|     AA|  981|      B2|\n",
      "+-----+------+------+------+-------+--------+------+-------+-----+--------+\n",
      "only showing top 5 rows\n",
      "\n"
     ]
    }
   ],
   "source": [
    "# Creating immigrants table and parquet file\n",
    "immigrant_table = process_i94_table(spark, immigration)[1]\n",
    "immigrant_table.printSchema()\n",
    "immigrant_table.show(5)"
   ]
  },
  {
   "cell_type": "code",
   "execution_count": 55,
   "metadata": {
    "editable": true
   },
   "outputs": [
    {
     "name": "stdout",
     "output_type": "stream",
     "text": [
      "root\n",
      " |-- arrdate: string (nullable = true)\n",
      " |-- day: integer (nullable = true)\n",
      " |-- week: integer (nullable = true)\n",
      " |-- month: integer (nullable = true)\n",
      " |-- year: integer (nullable = true)\n",
      "\n",
      "+----------+---+----+-----+----+\n",
      "|   arrdate|day|week|month|year|\n",
      "+----------+---+----+-----+----+\n",
      "|2016-07-15| 15|  28|    7|2016|\n",
      "|2016-12-07|  7|  49|   12|2016|\n",
      "|2016-07-13| 13|  28|    7|2016|\n",
      "|2016-09-30| 30|  39|    9|2016|\n",
      "|2016-01-08|  8|   1|    1|2016|\n",
      "+----------+---+----+-----+----+\n",
      "only showing top 5 rows\n",
      "\n"
     ]
    }
   ],
   "source": [
    "# Creating arrival date table and parquet file\n",
    "arrival_table = process_i94_table(spark, immigration)[2]\n",
    "arrival_table.printSchema()\n",
    "arrival_table.show(5)"
   ]
  },
  {
   "cell_type": "code",
   "execution_count": 56,
   "metadata": {
    "editable": true
   },
   "outputs": [
    {
     "name": "stdout",
     "output_type": "stream",
     "text": [
      "root\n",
      " |-- depdate: string (nullable = true)\n",
      " |-- day: integer (nullable = true)\n",
      " |-- week: integer (nullable = true)\n",
      " |-- month: integer (nullable = true)\n",
      " |-- year: integer (nullable = true)\n",
      "\n",
      "+----------+---+----+-----+----+\n",
      "|   depdate|day|week|month|year|\n",
      "+----------+---+----+-----+----+\n",
      "|2016-07-15| 15|  28|    7|2016|\n",
      "|2016-12-07|  7|  49|   12|2016|\n",
      "|2017-03-31| 31|  13|    3|2017|\n",
      "|2016-09-30| 30|  39|    9|2016|\n",
      "|2016-07-13| 13|  28|    7|2016|\n",
      "+----------+---+----+-----+----+\n",
      "only showing top 5 rows\n",
      "\n"
     ]
    }
   ],
   "source": [
    "# Creating departure date table and parquet file\n",
    "departure_table = process_i94_table(spark, immigration)[3]\n",
    "departure_table.printSchema()\n",
    "departure_table.show(5)"
   ]
  },
  {
   "cell_type": "markdown",
   "metadata": {
    "editable": true
   },
   "source": [
    "#### 4.2 Data Quality Checks\n",
    "The data quality checks to be performed to ensure the pipeline runs as expected are:\n",
    "1. Checking that there are no duplicates in the primary key of the table.\n",
    "2. The primary/unique key does not contain null values.\n",
    "3. Foreign keys can be mapped to the dimension tables.\n",
    "4. Count the number of rows in the fact and dimension tables and check if that matches with the initial data to check the completeness of data.\n",
    "5. Unit tests can be written to test the functionality of the code.\n",
    "\n",
    "A few basic checks performed on the data can be seen below."
   ]
  },
  {
   "cell_type": "code",
   "execution_count": 69,
   "metadata": {
    "editable": true
   },
   "outputs": [
    {
     "name": "stdout",
     "output_type": "stream",
     "text": [
      "+-----+\n",
      "|cicid|\n",
      "+-----+\n",
      "|    0|\n",
      "+-----+\n",
      "\n"
     ]
    }
   ],
   "source": [
    "# Check for null values in primary key of the fact table\n",
    "i94_fact_table.select([count(when(isnan('cicid') | col('cicid').isNull(), 'cicid')).alias('cicid')]).show()"
   ]
  },
  {
   "cell_type": "code",
   "execution_count": 70,
   "metadata": {
    "editable": true
   },
   "outputs": [
    {
     "name": "stdout",
     "output_type": "stream",
     "text": [
      "+---------+\n",
      "|iata_code|\n",
      "+---------+\n",
      "|        0|\n",
      "+---------+\n",
      "\n"
     ]
    }
   ],
   "source": [
    "# Check for null values in primary key of the airport dimension table\n",
    "airport_table.select([count(when(isnan('iata_code') | col('iata_code').isNull(), 'iata_code')).alias('iata_code')]).show()"
   ]
  },
  {
   "cell_type": "code",
   "execution_count": 76,
   "metadata": {
    "editable": true
   },
   "outputs": [
    {
     "name": "stdout",
     "output_type": "stream",
     "text": [
      "+-------------------+\n",
      "|Duplicate IATA Code|\n",
      "+-------------------+\n",
      "|               null|\n",
      "+-------------------+\n",
      "\n"
     ]
    }
   ],
   "source": [
    "# Checking for duplicate values in primary key\n",
    "airport_table.groupBy(['iata_code']).count().where(col('count') > 1).select(sum('count').alias('Duplicate IATA Code')).show()"
   ]
  },
  {
   "cell_type": "code",
   "execution_count": 82,
   "metadata": {
    "editable": true
   },
   "outputs": [
    {
     "name": "stdout",
     "output_type": "stream",
     "text": [
      "Number of rows check passed for demographics dimension table:  True\n"
     ]
    }
   ],
   "source": [
    "# Checking number of rows in dimension tables\n",
    "print(\"Number of rows check passed for demographics dimension table: \", demographics_table.count() == cities.shape[0])"
   ]
  },
  {
   "cell_type": "markdown",
   "metadata": {
    "editable": true
   },
   "source": [
    "#### 4.3 Data dictionary \n",
    "The data dictionary for the data model created can be seen below:\n",
    "\n",
    "##### Airports Table\n",
    "| Column Name   | Description                                               |\n",
    "| ------------- | --------------------------------------------------------- |\n",
    "| iata\\_code    | 3 letter code for International Air Transport Association |\n",
    "| identifier    | Identifier                                                |\n",
    "| type          | Airport Type                                              |\n",
    "| name          | Airport Name                                              |\n",
    "| elevation\\_ft | Elevation of the airport in feets                         |\n",
    "| iso\\_country  | Country                                                   |\n",
    "| iso\\_region   | Region                                                    |\n",
    "| municipality  | Municipality                                              |\n",
    "| gps\\_code     | GPS code of the airport                                   |\n",
    "| coordinatex   | x coordinate of the airport                               |\n",
    "| coordinatey   | y coordinate of the airport                               |\n",
    "\n",
    "##### US Demographics Table\n",
    "| Column Name       | Description                            |\n",
    "| ----------------- | -------------------------------------- |\n",
    "| demo\\_id          | Unique identifier for each row         |\n",
    "| city              | City                                   |\n",
    "| state             | State                                  |\n",
    "| race              | Race                                   |\n",
    "| state\\_code       | 3 letter code for state                |\n",
    "| age\\_median       | Median age of the population           |\n",
    "|  male             | Male population                        |\n",
    "| female            | Female population                      |\n",
    "| total\\_population | Total population                       |\n",
    "| veterans          | Number of veterans                     |\n",
    "| foreign\\_borns    | Number of Foreign borns in the region  |\n",
    "| household\\_size   | Household size                         |\n",
    "| count             | Number of people in this configuration |\n",
    "\n",
    "##### I94 Fact table\n",
    "| Column Name | Description                                         |\n",
    "| ----------- | --------------------------------------------------- |\n",
    "| cicid       | Unique identifier                                   |\n",
    "| i94yr       | 4 digit year                                        |\n",
    "| i94port     | 3 character port of entry                           |\n",
    "| arrdate     | Arrival date                                        |\n",
    "| i94mode     | Mode of transportation                              |\n",
    "| i94addr     | State code                                          |\n",
    "| depdate     | Departure date                                      |\n",
    "| i94visa     | Visa code with 3 categories                         |\n",
    "| dtadfile    | Date added to I-94 Files                            |\n",
    "| entdepa     | Arrival Flag - admitted or paroled into the U.S.    |\n",
    "| entdepd     | Departure Flag - Departed, lost I-94 or is deceased |\n",
    "| matflag     | Match flag - Match of arrival and departure records |\n",
    "| admnum      | Admission number                                    |\n",
    "| i94month    | Month                                               |\n",
    "\n",
    "##### Immigrant Data\n",
    "| Column Name | Description                                                                        |\n",
    "| ----------- | ---------------------------------------------------------------------------------- |\n",
    "| cicid       | Unique identifier                                                                  |\n",
    "| i94cit      | Country of origin                                                                  |\n",
    "| i94res      | Country of residence                                                               |\n",
    "| i94bir      | Age of immigrant in years                                                          |\n",
    "| biryear     | Birth year                                                                         |\n",
    "| dtaddto     |  Date to which admitted to U.S. (allowed to stay until)                            |\n",
    "| gender      | Gender                                                                             |\n",
    "| airline     | Airline used to travel                                                             |\n",
    "| fltno       | Flight number of the aircraft                                                      |\n",
    "| visa\\_type  | Class of admission legally admitting the non-immigrant to temporarily stay in U.S. |\n",
    "\n",
    "##### Arrival date\n",
    "| Column Name | Description  |\n",
    "| ----------- | ------------ |\n",
    "| arrdate     | Arrival Date |\n",
    "| date        | Date         |\n",
    "| month       | Month        |\n",
    "| year        | Year         |\n",
    "| week        | Week         |\n",
    "\n",
    "##### Departure date\n",
    "| Column Name | Description    |\n",
    "| ----------- | -------------- |\n",
    "| deptdate    | Departure date |\n",
    "| date        | Date           |\n",
    "| month       | Month          |\n",
    "| year        | Year           |\n",
    "| week        | Week           |"
   ]
  },
  {
   "cell_type": "markdown",
   "metadata": {
    "editable": true
   },
   "source": [
    "#### Step 5: Project Write Up\n",
    "* The rationale for the choice of tools and technologies for the project.\n",
    "    - Given the amount of data used in this project, i.e. millions of records of data, using Spark and Amazon S3 seem approprite to handle this efficiently and in a cost-effective way. Amazon S3 can handle large amount of data and Spark can be used to perform operations on this data.\n",
    "* How often the data should be updated and why.\n",
    "    - The data should be updated monthly as the immigration records are updated every month. Hence updating the data monthly would suffice in updating the fact table as well as required dimension tables.\n",
    "* A description of the approach for the following scenarios:\n",
    " * The data was increased by 100x.\n",
    "     - Amazon S3 and Spark can still be used to handle the data but the script can be run on an EMR cluster with more number of nodes. Moreover, data used for reading might also be required to move to an S3 bucket and EMR cluster can read it from there. The higher number of nodes can help in processing the larger amount of data more efficiently.\n",
    " * The data populates a dashboard that must be updated on a daily basis by 7am every day.\n",
    "     - The data pipeline can be built on Airflow with daily schedule interval. The pipeline created as a DAG in the airflow can be automated to update daily, and thus won't require manual execution of the pipeline. Hence, it can be used to populate the dashboard on a daily basis.\n",
    " * The database needed to be accessed by 100+ people.\n",
    "     - Using S3 bucket should still work in this scenario, but we can consider using AWS Redshift or EMR HDFS for better performance. As we know, redshift has massively parallel architecture and is horizontally scalable, it can be utilized when database is required to be accessed by 100+ people. The data can be distributed based on business needs accross various nodes to increase the performance. Moreover, redshift has automatic optimization feature, which automatically adjusts data layout, distribution keys, and query plans to provide optimal performance for a given workload. Amazon Redshift's scability can boost throughput to support increases in concurrent users, and scales linearly for simple and mixed workloads. Hence, this seems to be an appropriate choice when more people need to access database. Elastic load balancers can also be used to distribute requests over multiple servers."
   ]
  },
  {
   "cell_type": "code",
   "execution_count": null,
   "metadata": {
    "editable": true
   },
   "outputs": [],
   "source": []
  }
 ],
 "metadata": {
  "kernelspec": {
   "display_name": "Python 3",
   "language": "python",
   "name": "python3"
  },
  "language_info": {
   "codemirror_mode": {
    "name": "ipython",
    "version": 3
   },
   "file_extension": ".py",
   "mimetype": "text/x-python",
   "name": "python",
   "nbconvert_exporter": "python",
   "pygments_lexer": "ipython3",
   "version": "3.6.3"
  }
 },
 "nbformat": 4,
 "nbformat_minor": 4
}
